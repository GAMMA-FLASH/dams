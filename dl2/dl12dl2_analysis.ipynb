{
 "cells": [
  {
   "cell_type": "code",
   "execution_count": 1,
   "id": "f69c99f6-f693-48b7-9fe1-3a54b0f4ece6",
   "metadata": {
    "tags": []
   },
   "outputs": [],
   "source": [
    "import sys\n",
    "sys.path.append('../dl1')\n",
    "import os\n",
    "import shutil\n",
    "import h5py\n",
    "from eventlist_v4 import Eventlist\n",
    "from snapeventlist import EventlistSnapshot\n",
    "import matplotlib.pyplot as plt\n",
    "import tables as tb\n",
    "from tqdm import tqdm\n",
    "plt.rcParams['figure.figsize'] = [25, 10]"
   ]
  },
  {
   "cell_type": "markdown",
   "id": "04e7770a",
   "metadata": {},
   "source": [
    "## __Test__\n",
    "* DLO: `wf_runId_00115_configId_00000_2022-10-03T22_39_08.295757.h5`\n",
    "    * single event: `dl0_id=18` and `dl1_id=18`\n",
    "    * double event: `dl0_id=315` and `dl1_id=315`\n"
   ]
  },
  {
   "cell_type": "code",
   "execution_count": 2,
   "id": "1ac498e9",
   "metadata": {},
   "outputs": [],
   "source": [
    "# Define DL folder path\n",
    "dl0_path      = os.path.join('..', 'dl1')\n",
    "dl1_path      = os.path.join('..', '..', 'Data', 'DL1')\n",
    "dl1todl2_path = os.path.join('..', '..', 'Data', 'DL1toDL2')\n",
    "dl0todl2_path = os.path.join('..', '..', 'Data', 'DL0toDL2')"
   ]
  },
  {
   "cell_type": "code",
   "execution_count": 3,
   "id": "0e1e912e-c345-44d1-b62d-2d8089f6784b",
   "metadata": {
    "tags": []
   },
   "outputs": [],
   "source": [
    "# Define file path\n",
    "dl0_file     = os.path.join(dl0_path, 'prova.h5')\n",
    "dl0tol2_file = os.path.join(dl0todl2_path, 'prova.dl2.h5')\n",
    "dl1_file     = os.path.join(dl1_path, 'prova.dl1.h5')\n",
    "dl1tol2_file = os.path.join(dl1todl2_path, 'prova.dl1.dl2.h5')"
   ]
  },
  {
   "cell_type": "code",
   "execution_count": 4,
   "id": "3430a396",
   "metadata": {},
   "outputs": [],
   "source": [
    "# Config and XML model\n",
    "config_file  = os.path.join('..', 'dl1', 'dl02dl1_config.json')\n",
    "dl1model_file = os.path.join('..', 'dl1', 'DL1model.xml')"
   ]
  },
  {
   "cell_type": "code",
   "execution_count": 5,
   "id": "a0013640-5d87-48c9-a6bb-d56f2194f08d",
   "metadata": {
    "tags": []
   },
   "outputs": [],
   "source": [
    "snapeventlist = EventlistSnapshot(config_file, dl1model_file)\n",
    "eventlist_dl0 = Eventlist()\n",
    "eventlist_dl1 = Eventlist(from_dl1=True, \n",
    "                          xml_model_path=dl1model_file)"
   ]
  },
  {
   "cell_type": "code",
   "execution_count": 6,
   "id": "811d88e1",
   "metadata": {},
   "outputs": [],
   "source": [
    "# start = 1839\n",
    "# end   = 1839\n",
    "start = 0\n",
    "end  = -1\n",
    "if start == 0 and end == -1:\n",
    "    log = False\n",
    "else:\n",
    "    log = True"
   ]
  },
  {
   "cell_type": "markdown",
   "id": "c803099c",
   "metadata": {},
   "source": [
    "### __DL0 to DL2__"
   ]
  },
  {
   "cell_type": "code",
   "execution_count": 7,
   "id": "d7826065",
   "metadata": {},
   "outputs": [
    {
     "name": "stdout",
     "output_type": "stream",
     "text": [
      "Processing ../dl1/prova.h5\n",
      "Il file '../../Data/DL0toDL2/prova.dl2.h5' non esiste.\n"
     ]
    },
    {
     "name": "stderr",
     "output_type": "stream",
     "text": [
      "  2%|▏         | 197/10000 [00:00<00:30, 322.58it/s]"
     ]
    },
    {
     "name": "stderr",
     "output_type": "stream",
     "text": [
      "100%|██████████| 10000/10000 [00:31<00:00, 321.67it/s]\n"
     ]
    }
   ],
   "source": [
    "if os.path.exists(dl0tol2_file):\n",
    "    os.remove(dl0tol2_file)\n",
    "eventlist_dl0.process_file(dl0_file, None, dl0todl2_path, log, start, end)"
   ]
  },
  {
   "cell_type": "markdown",
   "id": "eda767a8",
   "metadata": {},
   "source": [
    "### __DL0 to DL1__"
   ]
  },
  {
   "cell_type": "code",
   "execution_count": 8,
   "id": "99684477",
   "metadata": {},
   "outputs": [
    {
     "name": "stderr",
     "output_type": "stream",
     "text": [
      "  0%|          | 31/10000 [00:00<00:32, 304.78it/s]"
     ]
    },
    {
     "name": "stderr",
     "output_type": "stream",
     "text": [
      "100%|██████████| 10000/10000 [00:30<00:00, 326.94it/s]\n"
     ]
    },
    {
     "name": "stdout",
     "output_type": "stream",
     "text": [
      "wfs\n",
      "attrs_gps\n",
      "attrs_reco_int\n",
      "attrs_reco_float\n",
      "attrs_int\n"
     ]
    }
   ],
   "source": [
    "if os.path.exists(dl1_file):\n",
    "    os.remove(dl1_file)\n",
    "snapeventlist.process_file(dl0_file, dl1_path, start, end)"
   ]
  },
  {
   "cell_type": "markdown",
   "id": "e74e2d8e",
   "metadata": {},
   "source": [
    "### __DL1 to DL2__"
   ]
  },
  {
   "cell_type": "code",
   "execution_count": 9,
   "id": "1fd48e94",
   "metadata": {},
   "outputs": [
    {
     "name": "stdout",
     "output_type": "stream",
     "text": [
      "Processing ../../Data/DL1/prova.dl1.h5\n",
      "Il file '../../Data/DL1toDL2/prova.dl1.dl2.h5' non esiste.\n"
     ]
    },
    {
     "name": "stderr",
     "output_type": "stream",
     "text": [
      "  0%|          | 45/10126 [00:00<00:22, 442.28it/s]"
     ]
    },
    {
     "name": "stderr",
     "output_type": "stream",
     "text": [
      "100%|██████████| 10126/10126 [00:21<00:00, 464.30it/s]\n"
     ]
    }
   ],
   "source": [
    "if os.path.exists(dl1tol2_file):\n",
    "    os.remove(dl1tol2_file)\n",
    "eventlist_dl1.process_file(dl1_file, None, dl1todl2_path, log, start, end)"
   ]
  },
  {
   "cell_type": "markdown",
   "id": "ac47b2b9",
   "metadata": {},
   "source": [
    "### __Check if the two DL2 file are the same__"
   ]
  },
  {
   "cell_type": "code",
   "execution_count": 10,
   "id": "696342dc",
   "metadata": {},
   "outputs": [],
   "source": [
    "# filePath_dl0_old_dl2 = os.path.join(outputdir0_old, os.path.basename(filePath_dl0)).replace('h5', 'dl2.h5')\n",
    "# filePath_dl0_dl2     = os.path.join(outputdir0, os.path.basename(filePath_dl0)).replace('h5', 'dl2.h5')\n",
    "# filePath_dl1_dl2     = os.path.join(outputdir1, os.path.basename(filePath_dl1)).replace('h5', 'dl2.h5')\n",
    "# print(filePath_dl0_old_dl2)\n",
    "# print(filePath_dl0_dl2)\n",
    "# print(filePath_dl1_dl2)"
   ]
  },
  {
   "cell_type": "markdown",
   "id": "9caa09da",
   "metadata": {},
   "source": [
    "### __DL2 of DL0 vs DL2 of DL1__"
   ]
  },
  {
   "cell_type": "code",
   "execution_count": 11,
   "id": "5b24cd99",
   "metadata": {},
   "outputs": [
    {
     "name": "stdout",
     "output_type": "stream",
     "text": [
      "len h5_0=            10133\n",
      "len h5_1=            10133\n",
      "pks_not_found h5_0=  63\n",
      "pks_not_found h5_1=  63\n"
     ]
    }
   ],
   "source": [
    "cnt_pk_notfound_h50 = 0\n",
    "cnt_pk_notfound_h51 = 0\n",
    "cnt_len_h50 = 0\n",
    "cnt_len_h51 = 0\n",
    "with h5py.File(dl0tol2_file, mode='r') as h50:\n",
    "    cnt_len_h50 = len(h50['dl2']['eventlist'])\n",
    "    evlst0 = h50['dl2']['eventlist']\n",
    "    for data0 in evlst0:\n",
    "        if -1 in data0:\n",
    "            cnt_pk_notfound_h50 += 1\n",
    "with h5py.File(dl1tol2_file, mode='r') as h51:\n",
    "    cnt_len_h51 = len(h51['dl2']['eventlist'])\n",
    "    evlst1 = h51['dl2']['eventlist']\n",
    "    for data1 in evlst1:\n",
    "        if -1 in data1:\n",
    "            cnt_pk_notfound_h51 += 1\n",
    "\n",
    "print(f\"len h5_0=            {cnt_len_h50}\")\n",
    "print(f\"len h5_1=            {cnt_len_h51}\")\n",
    "print(f\"pks_not_found h5_0=  {cnt_pk_notfound_h50}\")\n",
    "print(f\"pks_not_found h5_1=  {cnt_pk_notfound_h51}\")"
   ]
  },
  {
   "cell_type": "code",
   "execution_count": 12,
   "id": "d70276e8",
   "metadata": {},
   "outputs": [
    {
     "name": "stderr",
     "output_type": "stream",
     "text": [
      "100%|██████████| 10133/10133 [00:01<00:00, 5287.59it/s]\n"
     ]
    }
   ],
   "source": [
    "with h5py.File(dl0tol2_file, mode='r') as h5_0:\n",
    "    with h5py.File(dl1tol2_file, mode='r') as h5_1:\n",
    "        i, j = 0, 0\n",
    "        evlst0 = h5_0['dl2']['eventlist']\n",
    "        evlst1 = h5_1['dl2']['eventlist']\n",
    "        for data0, data1 in tqdm(zip(evlst0, evlst1), total=cnt_len_h50):\n",
    "            # print('dl0_2_dl2 tstart:', data0['tstart'])\n",
    "            # print('dl1_2_dl2 tstart:', data1['tstart'])\n",
    "            # print('-------------')\n",
    "            if not data0==data1:\n",
    "                print('dl0_2_dl2:', data0)\n",
    "                print('dl1_2_dl2:', data1)\n",
    "                print('dl0_2_dl2 tstart:', data0['tstart'])\n",
    "                print('dl1_2_dl2 tstart:', data1['tstart'])\n",
    "                print(data0['n_waveform'], data1['n_waveform'])\n",
    "                raise Exception('stop')"
   ]
  }
 ],
 "metadata": {
  "kernelspec": {
   "display_name": "gammaflash",
   "language": "python",
   "name": "python3"
  },
  "language_info": {
   "codemirror_mode": {
    "name": "ipython",
    "version": 3
   },
   "file_extension": ".py",
   "mimetype": "text/x-python",
   "name": "python",
   "nbconvert_exporter": "python",
   "pygments_lexer": "ipython3",
   "version": "3.11.8"
  }
 },
 "nbformat": 4,
 "nbformat_minor": 5
}

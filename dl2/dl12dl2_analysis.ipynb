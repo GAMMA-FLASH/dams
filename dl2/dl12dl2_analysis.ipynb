{
 "cells": [
  {
   "cell_type": "code",
   "execution_count": 1,
   "id": "f69c99f6-f693-48b7-9fe1-3a54b0f4ece6",
   "metadata": {
    "tags": []
   },
   "outputs": [],
   "source": [
    "import os\n",
    "import shutil\n",
    "import h5py\n",
    "from eventlist_v5 import Eventlist\n",
    "import matplotlib.pyplot as plt\n",
    "import tables as tb\n",
    "import numpy as np\n",
    "from tqdm import tqdm\n",
    "from scipy.signal import find_peaks\n",
    "from astropy.time import Time, TimeDelta\n",
    "plt.rcParams['figure.figsize'] = [25, 10]"
   ]
  },
  {
   "cell_type": "code",
   "execution_count": 2,
   "id": "233f757b",
   "metadata": {},
   "outputs": [
    {
     "data": {
      "text/plain": [
       "['output',\n",
       " 'wf_runId_00115_configId_00000_2022-10-03T22_39_08.295757.h5',\n",
       " 'wf_runId_00240_configId_00000_2022-10-10T08_21_49.133517.h5',\n",
       " 'wf_runId_00249_configId_00000_2022-10-17T09_45_54.710368.h5',\n",
       " 'wf_runId_00261_configId_00000_2022-10-24T08_30_50.143648.h5']"
      ]
     },
     "execution_count": 2,
     "metadata": {},
     "output_type": "execute_result"
    }
   ],
   "source": [
    "# List of files in directory /data01\n",
    "os.listdir('/data01')"
   ]
  },
  {
   "cell_type": "code",
   "execution_count": 63,
   "id": "1ac498e9",
   "metadata": {},
   "outputs": [],
   "source": [
    "h5_file_name = os.listdir('/data01')[3]"
   ]
  },
  {
   "cell_type": "markdown",
   "id": "04e7770a",
   "metadata": {},
   "source": [
    "# __Test__\n",
    "* DLO: `wf_runId_00115_configId_00000_2022-10-03T22_39_08.295757.h5`\n",
    "    * single event: `dl0_id=18` and `dl1_id=18`\n",
    "    * double event: `dl0_id=315` and `dl1_id=315`\n"
   ]
  },
  {
   "cell_type": "code",
   "execution_count": 64,
   "id": "0e1e912e-c345-44d1-b62d-2d8089f6784b",
   "metadata": {
    "tags": []
   },
   "outputs": [
    {
     "name": "stdout",
     "output_type": "stream",
     "text": [
      "/data01/wf_runId_00249_configId_00000_2022-10-17T09_45_54.710368.h5\n",
      "/home/usergamma/workspace/dl1/output_dl1/wf_runId_00249_configId_00000_2022-10-17T09_45_54.710368.dl1.h5\n"
     ]
    }
   ],
   "source": [
    "dl1_path = os.path.join(os.path.dirname(os.getcwd()), 'dl1')\n",
    "# Filepath for dl0 and dl1\n",
    "filePath_dl0 = f\"/data01/{h5_file_name}\"\n",
    "filePath_dl1 = os.path.join(os.path.join(dl1_path, 'output_dl1'), \n",
    "                            os.path.basename(filePath_dl0).replace('.h5', '.dl1.h5')) \n",
    "# Output dir for dl2\n",
    "outputdir=os.path.join(dl1_path, 'output_dl2_abcd')\n",
    "outputdir0_old=os.path.join(dl1_path, 'output_dl2_fromdl0_old')\n",
    "outputdir0=os.path.join(dl1_path, 'output_dl2_fromdl0')\n",
    "outputdir1=os.path.join(dl1_path, 'output_dl2_fromdl1')\n",
    "print(filePath_dl0)\n",
    "print(filePath_dl1)"
   ]
  },
  {
   "cell_type": "code",
   "execution_count": 65,
   "id": "3430a396",
   "metadata": {},
   "outputs": [
    {
     "name": "stdout",
     "output_type": "stream",
     "text": [
      "$ python ../dl1/dl02dl1.py /data01/wf_runId_00249_configId_00000_2022-10-17T09_45_54.710368.h5 /home/usergamma/workspace/dl1/output_dl1\n",
      "/home/usergamma/workspace/dl1/output_dl1/wf_runId_00249_configId_00000_2022-10-17T09_45_54.710368.dl1.h5\n",
      "100%|█████████████████████████████████████| 10000/10000 [02:50<00:00, 58.73it/s]\n"
     ]
    }
   ],
   "source": [
    "cmd = f\"python ../dl1/dl02dl1.py {filePath_dl0} {dl1_path}/output_dl1\"\n",
    "!echo $ {cmd}\n",
    "!{cmd}"
   ]
  },
  {
   "cell_type": "code",
   "execution_count": 66,
   "id": "a0013640-5d87-48c9-a6bb-d56f2194f08d",
   "metadata": {
    "tags": []
   },
   "outputs": [],
   "source": [
    "eventlist_dl0 = Eventlist()\n",
    "eventlist_dl1 = Eventlist(from_dl1=True)"
   ]
  },
  {
   "cell_type": "markdown",
   "id": "e74e2d8e",
   "metadata": {},
   "source": [
    "### __DL0 smaple example__"
   ]
  },
  {
   "cell_type": "code",
   "execution_count": 27,
   "id": "84056579",
   "metadata": {},
   "outputs": [],
   "source": [
    "# if os.path.exists(outputdir):\n",
    "#     shutil.rmtree(outputdir)\n",
    "# eventlist_dl0.process_file(filePath_dl0, None, outputdir, True, 1565, 1565)"
   ]
  },
  {
   "cell_type": "code",
   "execution_count": 28,
   "id": "1fd48e94",
   "metadata": {},
   "outputs": [],
   "source": [
    "# if os.path.exists(outputdir):\n",
    "#     shutil.rmtree(outputdir)\n",
    "# eventlist_dl1.process_file(filePath_dl1, None, outputdir, True, 1585, 1585)"
   ]
  },
  {
   "cell_type": "markdown",
   "id": "bdf24a23",
   "metadata": {},
   "source": [
    "## __DL0 to DL2__"
   ]
  },
  {
   "cell_type": "code",
   "execution_count": 67,
   "id": "9b19f01e",
   "metadata": {},
   "outputs": [
    {
     "name": "stdout",
     "output_type": "stream",
     "text": [
      "Processing /data01/wf_runId_00249_configId_00000_2022-10-17T09_45_54.710368.h5\n",
      "La directory '/home/usergamma/workspace/dl1/output_dl2_fromdl0' è stata creata.\n",
      "Il file '/home/usergamma/workspace/dl1/output_dl2_fromdl0/wf_runId_00249_configId_00000_2022-10-17T09_45_54.710368.dl2.h5' non esiste.\n"
     ]
    },
    {
     "name": "stderr",
     "output_type": "stream",
     "text": [
      "100%|██████████| 10000/10000 [01:13<00:00, 136.14it/s]\n"
     ]
    }
   ],
   "source": [
    "if os.path.exists(outputdir0):\n",
    "    shutil.rmtree(outputdir0)\n",
    "eventlist_dl0.process_file(filePath_dl0, None, outputdir0, False, 0, -1)"
   ]
  },
  {
   "cell_type": "markdown",
   "id": "1883d4db",
   "metadata": {},
   "source": [
    "## __DL1 to DL2__"
   ]
  },
  {
   "cell_type": "code",
   "execution_count": 68,
   "id": "007acbc5-390d-4d24-aff4-f0c2b185271d",
   "metadata": {
    "tags": []
   },
   "outputs": [
    {
     "name": "stdout",
     "output_type": "stream",
     "text": [
      "Processing /home/usergamma/workspace/dl1/output_dl1/wf_runId_00249_configId_00000_2022-10-17T09_45_54.710368.dl1.h5\n",
      "La directory '/home/usergamma/workspace/dl1/output_dl2_fromdl1' è stata creata.\n",
      "Il file '/home/usergamma/workspace/dl1/output_dl2_fromdl1/wf_runId_00249_configId_00000_2022-10-17T09_45_54.710368.dl1.dl2.h5' non esiste.\n"
     ]
    },
    {
     "name": "stderr",
     "output_type": "stream",
     "text": [
      "100%|██████████| 10158/10158 [00:58<00:00, 175.02it/s]\n"
     ]
    }
   ],
   "source": [
    "if os.path.exists(outputdir1):\n",
    "    shutil.rmtree(outputdir1)\n",
    "eventlist_dl1.process_file(filePath_dl1, None, outputdir1, False, 0, -1)"
   ]
  },
  {
   "cell_type": "markdown",
   "id": "ac47b2b9",
   "metadata": {},
   "source": [
    "## __Check if the two DL2 file are the same__"
   ]
  },
  {
   "cell_type": "code",
   "execution_count": 69,
   "id": "696342dc",
   "metadata": {},
   "outputs": [
    {
     "name": "stdout",
     "output_type": "stream",
     "text": [
      "/home/usergamma/workspace/dl1/output_dl2_fromdl0_old/wf_runId_00249_configId_00000_2022-10-17T09_45_54.710368.dl2.h5\n",
      "/home/usergamma/workspace/dl1/output_dl2_fromdl0/wf_runId_00249_configId_00000_2022-10-17T09_45_54.710368.dl2.h5\n",
      "/home/usergamma/workspace/dl1/output_dl2_fromdl1/wf_runId_00249_configId_00000_2022-10-17T09_45_54.710368.dl1.dl2.h5\n"
     ]
    }
   ],
   "source": [
    "filePath_dl0_old_dl2 = os.path.join(outputdir0_old, os.path.basename(filePath_dl0)).replace('h5', 'dl2.h5')\n",
    "filePath_dl0_dl2     = os.path.join(outputdir0, os.path.basename(filePath_dl0)).replace('h5', 'dl2.h5')\n",
    "filePath_dl1_dl2     = os.path.join(outputdir1, os.path.basename(filePath_dl1)).replace('h5', 'dl2.h5')\n",
    "print(filePath_dl0_old_dl2)\n",
    "print(filePath_dl0_dl2)\n",
    "print(filePath_dl1_dl2)"
   ]
  },
  {
   "cell_type": "markdown",
   "id": "9caa09da",
   "metadata": {},
   "source": [
    "### __DL2 of DL0 vs DL2 of DL1__"
   ]
  },
  {
   "cell_type": "code",
   "execution_count": 70,
   "id": "5b24cd99",
   "metadata": {},
   "outputs": [
    {
     "name": "stdout",
     "output_type": "stream",
     "text": [
      "len h5_0=            10159\n",
      "len h5_1=            10159\n",
      "pks_not_found h5_0=  13\n",
      "pks_not_found h5_1=  13\n"
     ]
    }
   ],
   "source": [
    "cnt_pk_notfound_h50 = 0\n",
    "cnt_pk_notfound_h51 = 0\n",
    "cnt_len_h50 = 0\n",
    "cnt_len_h51 = 0\n",
    "with h5py.File(filePath_dl0_dl2, mode='r') as h50:\n",
    "    cnt_len_h50 = len(h50['dl2']['eventlist'])\n",
    "    evlst0 = h50['dl2']['eventlist']\n",
    "    for data0 in evlst0:\n",
    "        if -1 in data0:\n",
    "            cnt_pk_notfound_h50 += 1\n",
    "with h5py.File(filePath_dl1_dl2, mode='r') as h51:\n",
    "    cnt_len_h51 = len(h51['dl2']['eventlist'])\n",
    "    evlst1 = h51['dl2']['eventlist']\n",
    "    for data1 in evlst1:\n",
    "        if -1 in data1:\n",
    "            cnt_pk_notfound_h51 += 1\n",
    "\n",
    "print(f\"len h5_0=            {cnt_len_h50}\")\n",
    "print(f\"len h5_1=            {cnt_len_h51}\")\n",
    "print(f\"pks_not_found h5_0=  {cnt_pk_notfound_h50}\")\n",
    "print(f\"pks_not_found h5_1=  {cnt_pk_notfound_h51}\")"
   ]
  },
  {
   "cell_type": "code",
   "execution_count": 72,
   "id": "d70276e8",
   "metadata": {},
   "outputs": [
    {
     "name": "stderr",
     "output_type": "stream",
     "text": [
      "  0%|          | 0/10159 [00:00<?, ?it/s]"
     ]
    },
    {
     "name": "stderr",
     "output_type": "stream",
     "text": [
      " 82%|████████▏ | 8337/10159 [00:02<00:00, 3520.43it/s]"
     ]
    },
    {
     "name": "stdout",
     "output_type": "stream",
     "text": [
      "dl0_2_dl2: (31., 1201., 19493.26, 19759.607, 16815.045, 0., 7720., 486., -300., 1.66600005e+09)\n",
      "dl1_2_dl2: (31., 1201., 19493.26, 19849.68, 16833.98, 0., 7720., 486., -300., 1.66600005e+09)\n",
      "\n"
     ]
    },
    {
     "name": "stderr",
     "output_type": "stream",
     "text": [
      "100%|██████████| 10159/10159 [00:03<00:00, 3366.99it/s]"
     ]
    },
    {
     "name": "stdout",
     "output_type": "stream",
     "text": [
      "dl0_2_dl2: (33., 1200., 21430.01, 21790.027, 19032.541, 0., 9987., 558., -300., 1.66600008e+09)\n",
      "dl1_2_dl2: (33., 1200., 21430.01, 21880.264, 19034.832, 0., 9987., 558., -300., 1.66600008e+09)\n",
      "\n"
     ]
    },
    {
     "name": "stderr",
     "output_type": "stream",
     "text": [
      "\n"
     ]
    }
   ],
   "source": [
    "with h5py.File(filePath_dl0_dl2, mode='r') as h5_0:\n",
    "    with h5py.File(filePath_dl1_dl2, mode='r') as h5_1:\n",
    "        i, j = 0, 0\n",
    "        evlst0 = h5_0['dl2']['eventlist']\n",
    "        evlst1 = h5_1['dl2']['eventlist']\n",
    "        for data0, data1 in tqdm(zip(evlst0, evlst1), total=cnt_len_h50):\n",
    "            if not data0==data1:\n",
    "                print('dl0_2_dl2:', data0)\n",
    "                print('dl1_2_dl2:', data1)\n",
    "                # print('dl0_2_dl2 mult:', data0['mult'])\n",
    "                # print('dl1_2_dl2 mult:', data1['mult'])\n",
    "                print()"
   ]
  },
  {
   "cell_type": "code",
   "execution_count": 10,
   "id": "2f5f0383",
   "metadata": {},
   "outputs": [],
   "source": [
    "# with open(os.path.join(outputdir0_old, 'old_new___differences.txt'), 'w') as f_diff:\n",
    "#     with h5py.File(filePath_dl0_old_dl2, mode='r') as h5_0:\n",
    "#         with h5py.File(filePath_dl0_dl2, mode='r') as h5_1:\n",
    "#             for data0, data1 in tqdm(zip(h5_0['dl2']['eventlist'], h5_1['dl2']['eventlist']), \n",
    "#                                     total=len(h5_1['dl2']['eventlist'])):\n",
    "#                 if not data0==data1:\n",
    "#                     f_diff.write(f'data0: {data0} data1: {data1}\\n')"
   ]
  },
  {
   "cell_type": "markdown",
   "id": "69b6e5bc",
   "metadata": {},
   "source": [
    "### __DL0 vs DL1__"
   ]
  },
  {
   "cell_type": "code",
   "execution_count": 54,
   "id": "b0f09a21",
   "metadata": {},
   "outputs": [],
   "source": [
    "# with h5py.File(filePath_dl0_dl2, mode='r') as h50:\n",
    "#     with h5py.File(filePath_dl1_dl2, mode='r') as h51:\n",
    "#         print(f\"len h5_0={len(h50['dl2']['eventlist'])}\")\n",
    "#         print(f\"len h5_1={len(h51['dl2']['eventlist'])}\")"
   ]
  }
 ],
 "metadata": {
  "kernelspec": {
   "display_name": "gammaflash",
   "language": "python",
   "name": "python3"
  },
  "language_info": {
   "codemirror_mode": {
    "name": "ipython",
    "version": 3
   },
   "file_extension": ".py",
   "mimetype": "text/x-python",
   "name": "python",
   "nbconvert_exporter": "python",
   "pygments_lexer": "ipython3",
   "version": "3.11.7"
  }
 },
 "nbformat": 4,
 "nbformat_minor": 5
}
